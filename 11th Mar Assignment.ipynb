{
 "cells": [
  {
   "cell_type": "markdown",
   "id": "b44c9810-b13c-40ae-adc9-662c55784cab",
   "metadata": {},
   "source": [
    "# 11th March Assignment"
   ]
  },
  {
   "cell_type": "code",
   "execution_count": null,
   "id": "54835709-fca8-4dcf-a370-55354ba6ecbb",
   "metadata": {},
   "outputs": [],
   "source": []
  },
  {
   "cell_type": "markdown",
   "id": "dbb77ad6-b71d-4b35-ba0b-95f23f0a9b4e",
   "metadata": {},
   "source": [
    "Q1: What is the difference between a t-test and a z-test? Provide an example scenario where you would\n",
    "use each type of test."
   ]
  },
  {
   "cell_type": "markdown",
   "id": "02cb6a0b-8740-4023-a307-af341bd02b92",
   "metadata": {},
   "source": [
    "* Differences \n",
    "    \n",
    "1. Mean : \n",
    "\n",
    "-> When we have population mean we have to use z-test.\n",
    "\n",
    "-> When we have smaple mean we have to use t-test.\n",
    "\n",
    "2. Sample Size :\n",
    "\n",
    "-> We can use z-test for any sample size.\n",
    "\n",
    "-> If the sample size  is less than 30 , then we have to use t-test."
   ]
  },
  {
   "cell_type": "markdown",
   "id": "c6fe7358-e17c-484b-b096-c5b163b8ca5b",
   "metadata": {},
   "source": [
    "## Example Scenario\n",
    "\n",
    "* T-test \n",
    "\n",
    "-> Let's say you want to compare the average test scores of two different groups of students (Group A and Group B). You randomly select 20 students from each group and record their test scores. To determine if there is a significant difference between the two groups, you can use a t-test.\n",
    "\n",
    "* Z-test\n",
    "\n",
    "-> Suppose you want to assess whether the average height of a specific population differs significantly from a known average height. You collect a large sample of 500 individuals from the population and measure their heights. In this case, you can use a z-test to determine if the average height of your sample significantly deviates from the known average height."
   ]
  },
  {
   "cell_type": "code",
   "execution_count": null,
   "id": "2dad250d-f0c4-49ae-a896-ee37a3639662",
   "metadata": {},
   "outputs": [],
   "source": []
  },
  {
   "cell_type": "markdown",
   "id": "8fb266bb-fc60-4e8f-a342-a813b3dc69eb",
   "metadata": {},
   "source": [
    "Q2: Differentiate between one-tailed and two-tailed tests."
   ]
  },
  {
   "cell_type": "markdown",
   "id": "f859eda9-43fc-4d15-a999-c9bd41833ebf",
   "metadata": {},
   "source": [
    "* One-Tailed\n",
    "\n",
    "-> The alternate hypothesis is specified in question.\n",
    "\n",
    "-> We ain't to divide significance level in two parts,cause we have to locate it according to question. \n",
    "\n",
    "* Two-Tailed\n",
    "\n",
    "-> The alternate hypothesis ain't specified in quesition.\n",
    "\n",
    "-> We have to divide criticale value in two parts,cause there ain't specified probability."
   ]
  },
  {
   "cell_type": "code",
   "execution_count": null,
   "id": "6a1563ed-b115-4ce5-b080-83edcbe41128",
   "metadata": {},
   "outputs": [],
   "source": []
  },
  {
   "cell_type": "markdown",
   "id": "58950dcd-c076-4114-a882-1d9cef36f405",
   "metadata": {},
   "source": [
    "Q3: Explain the concept of Type 1 and Type 2 errors in hypothesis testing. Provide an example scenario for\n",
    "each type of error."
   ]
  },
  {
   "cell_type": "markdown",
   "id": "44bff50b-5f56-45ef-9f9b-e1d1cfd09011",
   "metadata": {},
   "source": [
    "* Type 1 Error\n",
    "\n",
    "-> Type 1 Error occur when we reject the null hypothesis,but in reality it is true.\n",
    "\n",
    "* Type 2 Error\n",
    "\n",
    "-> Type 2 Error occur when we accecpt the null hypothesis,but in reality it ain't true.\n",
    "\n",
    "## Example Scenario\n",
    "\n",
    "Type 1 error :\n",
    "\n",
    "Suppose a drug company is conducting a clinical trial to test a new medication's effectiveness in reducing the duration of a common cold. The null hypothesis states that the drug has no effect, and the alternative hypothesis suggests that the drug reduces the duration of the cold. If the company incorrectly rejects the null hypothesis and claims the drug is effective when it isn't, it would be a Type 1 error.\n",
    "\n",
    "Type 2 error :\n",
    "\n",
    "Consider a quality control scenario where a company claims that their manufacturing process produces defective products less than 1% of the time. The null hypothesis is that the defect rate is indeed less than 1%, while the alternative hypothesis suggests that the defect rate is higher. If the company fails to reject the null hypothesis and concludes that the defect rate is less than 1%, even though it is higher, it would be a Type 2 error."
   ]
  },
  {
   "cell_type": "code",
   "execution_count": null,
   "id": "baae5b8f-1550-4307-9d2c-4d7c6df7b915",
   "metadata": {},
   "outputs": [],
   "source": []
  },
  {
   "cell_type": "markdown",
   "id": "2fa0ff27-2fb0-4a79-97d1-57883f5d2e28",
   "metadata": {},
   "source": [
    "Q4: Explain Bayes's theorem with an example."
   ]
  },
  {
   "cell_type": "markdown",
   "id": "22c68e0b-7405-45b0-b35c-1f31397ff4e1",
   "metadata": {},
   "source": [
    "-> It is an probability theory in statistics.\n",
    "\n",
    "-> Bayes's theorem is used to update the probability according to new evidence or information.\n",
    "\n",
    "* P(A|B) = P(A) * P(B|A) / P(B)\n",
    "\n",
    "Where,\n",
    "\n",
    "P(A) - Probability of A.\n",
    "\n",
    "P(B|A) - Probability of B given A is occured.\n",
    "\n",
    "P(B) - Probability of B.\n",
    "\n",
    "\n",
    "## Example\n",
    "\n",
    "-> Let's take the example of price pridiction.We have to predict the price of home according to the different facilities home.\n",
    "\n",
    "-> If we want to pridict the price of home,so we can use the Bayes's theorem for that."
   ]
  },
  {
   "cell_type": "code",
   "execution_count": null,
   "id": "8ffe3f8f-be51-4313-9c85-84440f4b9de1",
   "metadata": {},
   "outputs": [],
   "source": []
  },
  {
   "cell_type": "markdown",
   "id": "b507a7c9-7e9a-495a-90b8-d4e91531d2a1",
   "metadata": {},
   "source": [
    "Q5: What is a confidence interval? How to calculate the confidence interval, explain with an example."
   ]
  },
  {
   "cell_type": "markdown",
   "id": "a8ffd7b4-1886-46a5-9c61-a38b179edcc0",
   "metadata": {},
   "source": [
    "-> Confidence interval is a range of values to estimate the population data.\n",
    "\n",
    "-> It is used to solve the problem of point estimator.\n",
    "\n",
    "* Confidence Interval = Sample Mean ± (Critical Value * Standard Error) \n",
    "\n",
    "## Example\n",
    "\n",
    "-> The critical value for a 95% confidence level with a sample size of 100 is 1.96. The standard error is 5 cm / √100 = 0.5 cm.\n",
    "\n",
    "Plugging these values into the formula:\n",
    "\n",
    "Confidence Interval = 170 cm ± (1.96 * 0.5 cm)\n",
    "\n",
    "= 170 cm ± 0.98 cm\n",
    "\n",
    "= (169.02 cm, 170.98 cm)\n",
    "\n",
    "So, with a 95% confidence level, we estimate that the true average height of all adults in the city falls between 169.02 cm and 170.98 cm."
   ]
  },
  {
   "cell_type": "code",
   "execution_count": null,
   "id": "414feffa-e794-4d39-b49d-b89f118abe5a",
   "metadata": {},
   "outputs": [],
   "source": []
  },
  {
   "cell_type": "markdown",
   "id": "e4ed7b2b-7221-44c5-94d8-b6fc341b97e7",
   "metadata": {},
   "source": [
    "Q6. Use Bayes's Theorem to calculate the probability of an event occurring given prior knowledge of the\n",
    "event's probability and new evidence. Provide a sample problem and solution."
   ]
  },
  {
   "cell_type": "markdown",
   "id": "8e31ed4a-3f9f-4e9a-98f1-b7ae3611dd3b",
   "metadata": {},
   "source": [
    "Q: In a certain market, there is concern about the impact of high inflation on the demand for a specific product. The prior probability of high inflation is estimated to be 20%. It is observed that when high inflation occurs, the probability of increased demand for the product is 70%. However, even in the absence of high inflation, there is still a 30% chance of increased demand. Given that demand has significantly increased, what is the probability that high inflation is the cause?\n",
    "\n",
    "\n",
    "* Solving the problem by using bayes's theorem :\n",
    "\n",
    "P(H) = 0.20 (prior probability of high inflation)\n",
    "\n",
    "P(D|H) = 0.70 (probability of increased demand given high inflation)\n",
    "\n",
    "P(D|not H) = 0.30 (probability of increased demand given no high inflation)\n",
    "\n",
    "Using Bayes's theorem, we can calculate:\n",
    "\n",
    "P(H|D) = (P(D|H) * P(H)) / [P(D|H) * P(H) + P(D|not H) * P(not H)]\n",
    "\n",
    "P(not H) can be calculated as 1 - P(H).\n",
    "\n",
    "Substituting the given values:\n",
    "\n",
    "P(H|D) = (0.70 * 0.20) / [(0.70 * 0.20) + (0.30 * (1 - 0.20))]\n",
    "\n",
    "Calculating:\n",
    "\n",
    "P(H|D) = 0.14 / (0.14 + 0.22)\n",
    "\n",
    "= 0.14 / 0.36\n",
    "\n",
    "≈ 0.3889\n",
    "\n",
    "Therefore, the probability that high inflation is the cause of the increased demand is approximately 0.3889 or 38.89%."
   ]
  },
  {
   "cell_type": "code",
   "execution_count": null,
   "id": "848f4260-96cc-40f5-9928-ef99c4ace803",
   "metadata": {},
   "outputs": [],
   "source": []
  },
  {
   "cell_type": "markdown",
   "id": "005e10df-c2f2-4a43-9dff-6bc426dd3270",
   "metadata": {},
   "source": [
    "Q7. Calculate the 95% confidence interval for a sample of data with a mean of 50 and a standard deviation\n",
    "of 5. Interpret the results."
   ]
  },
  {
   "cell_type": "markdown",
   "id": "76f405fe-7231-4f48-9d97-89bd65aaf30a",
   "metadata": {},
   "source": [
    "Confidence Interval = 50 ± (1.96 * (5 / √100))\n",
    "\n",
    "Confidence Interval = 50 ± (1.96 * 0.5)\n",
    "\n",
    "Confidence Interval = 50 ± 0.98\n",
    "\n",
    "-> The confidence interval would be (49.02, 50.98)."
   ]
  },
  {
   "cell_type": "code",
   "execution_count": null,
   "id": "c139a644-2619-4ea2-9a80-7392cad6ad55",
   "metadata": {},
   "outputs": [],
   "source": []
  },
  {
   "cell_type": "markdown",
   "id": "e903b1af-3c78-447b-b616-f88e3d1b89e4",
   "metadata": {},
   "source": [
    "Q8. What is the margin of error in a confidence interval? How does sample size affect the margin of error?\n",
    "Provide an example of a scenario where a larger sample size would result in a smaller margin of error."
   ]
  },
  {
   "cell_type": "markdown",
   "id": "6edbe310-00a4-45e7-8a9e-a9fc7bee6260",
   "metadata": {},
   "source": [
    "-> The margin of error is a uncertainity associated with the estimation of population data.\n",
    "\n",
    "-> Sample size makes effect on margin of error.The more sample size the less margin of error,because more sample size provide more information about population data so we can        estimate population data more precisely.\n",
    "\n",
    "## Example\n",
    "\n",
    "* Scenario 1 :\n",
    "\n",
    "Sample Size = 50 \n",
    "\n",
    "Margin of Error =  1.96 * 5 / √ 500 \n",
    "\n",
    "                = 0.4312\n",
    "                \n",
    "* Scenario 2 :\n",
    "\n",
    "Sample Size = 500\n",
    "\n",
    "Margin of Error =  1.96 * 5 / √ 50\n",
    "\n",
    "                =  1.372\n",
    "                \n",
    "* We can see clearly according to this two scenario, that the more sample size the less margin of error ."
   ]
  },
  {
   "cell_type": "code",
   "execution_count": null,
   "id": "7540ec22-205d-4703-a396-bf676291487e",
   "metadata": {},
   "outputs": [],
   "source": []
  },
  {
   "cell_type": "markdown",
   "id": "36669ebc-3be2-4511-8b3d-90d05ccdc3e4",
   "metadata": {},
   "source": [
    "Q9. Calculate the z-score for a data point with a value of 75, a population mean of 70, and a population\n",
    "standard deviation of 5. Interpret the results."
   ]
  },
  {
   "cell_type": "markdown",
   "id": "2395e841-2bba-4c6a-90c4-7a9d5a284492",
   "metadata": {},
   "source": [
    "z = (x - μ) / σ\n",
    "\n",
    "z = (75 - 70) / 5\n",
    "\n",
    "z = 1\n",
    "\n",
    "The z-score for the data point with a value of 75 is 1."
   ]
  },
  {
   "cell_type": "code",
   "execution_count": null,
   "id": "bb7ae5e9-dd26-43fe-bd8e-860d77e19d68",
   "metadata": {},
   "outputs": [],
   "source": []
  },
  {
   "cell_type": "markdown",
   "id": "56b8ddef-4660-4db3-bc2b-8fcae7d610d3",
   "metadata": {},
   "source": [
    "Q10. In a study of the effectiveness of a new weight loss drug, a sample of 50 participants lost an average\n",
    "of 6 pounds with a standard deviation of 2.5 pounds. Conduct a hypothesis test to determine if the drug is\n",
    "significantly effective at a 95% confidence level using a t-test."
   ]
  },
  {
   "cell_type": "markdown",
   "id": "dc4221ac-cafb-49bb-a097-a058a9b6a081",
   "metadata": {},
   "source": [
    "t = (x̄ - μ) / (s / √n)\n",
    "\n",
    "Substituting the given values into the formula, we get:\n",
    "\n",
    "t = (6 - 0) / (2.5 / √50)\n",
    "\n",
    "t = 6 / (2.5 / 7.07)\n",
    "\n",
    "t = 6 / 1.767\n",
    "\n",
    "t ≈ 3.393\n",
    "\n",
    "Next, we need to compare the calculated t-statistic with the critical t-value for the given confidence level and degrees of freedom. Since the sample size is 50, the degrees of freedom would be 50 - 1 = 49.\n",
    "\n",
    "Looking up the critical t-value for a one-tailed test with a 95% confidence level and 49 degrees of freedom, we find that it is approximately 1.684.\n",
    "\n",
    "Since the calculated t-statistic (3.393) is greater than the critical t-value (1.684), we have sufficient evidence to reject the null hypothesis."
   ]
  },
  {
   "cell_type": "code",
   "execution_count": null,
   "id": "07e03d1a-2596-4c00-acbe-34a1168c0f0a",
   "metadata": {},
   "outputs": [],
   "source": []
  },
  {
   "cell_type": "markdown",
   "id": "bf5b5921-37fe-4e47-ab40-fee1082dfc77",
   "metadata": {},
   "source": [
    "Q11. In a survey of 500 people, 65% reported being satisfied with their current job. Calculate the 95%\n",
    "confidence interval for the true proportion of people who are satisfied with their job."
   ]
  },
  {
   "cell_type": "markdown",
   "id": "c80df178-c3ed-4965-8cb3-068b6cb20147",
   "metadata": {},
   "source": [
    "-> The formula for the confidence interval of a proportion is:\n",
    "\n",
    "* Confidence Interval = p̂ ± (Z * √((p̂ * (1 - p̂)) / n))\n",
    "\n",
    "-> The Z-score corresponding to a 95% confidence level is approximately 1.96.\n",
    "\n",
    "Substituting the values into the formula, we get:\n",
    "\n",
    "Confidence Interval = 0.65 ± (1.96 * √((0.65 * (1 - 0.65)) / 500))\n",
    "\n",
    "Confidence Interval = 0.65 ± (1.96 * √((0.4225) / 500))\n",
    "\n",
    "Confidence Interval = 0.65 ± (1.96 * √(0.000845))\n",
    "\n",
    "Confidence Interval = 0.65 ± (1.96 * 0.02906)\n",
    "\n",
    "Confidence Interval = 0.65 ± 0.05693\n",
    "\n",
    "* The 95% confidence interval for the true proportion of people who are satisfied with their job is approximately (0.5931, 0.7069)."
   ]
  },
  {
   "cell_type": "code",
   "execution_count": null,
   "id": "f1e6cd16-9fe6-4943-a243-47c1ce311855",
   "metadata": {},
   "outputs": [],
   "source": []
  },
  {
   "cell_type": "markdown",
   "id": "7729f935-a0d0-4607-b114-704abc8c109a",
   "metadata": {},
   "source": [
    "Q12. A researcher is testing the effectiveness of two different teaching methods on student performance.\n",
    "Sample A has a mean score of 85 with a standard deviation of 6, while sample B has a mean score of 82\n",
    "with a standard deviation of 5. Conduct a hypothesis test to determine if the two teaching methods have a\n",
    "significant difference in student performance using a t-test with a significance level of 0.01."
   ]
  },
  {
   "cell_type": "markdown",
   "id": "96a031fb-b0c8-4b5c-958f-473b5a514a73",
   "metadata": {
    "tags": []
   },
   "source": [
    "-> Considering sample size for sample A is 10 and for sample B is 8.\n",
    "\n",
    "## Hypothesis Testing\n",
    "\n",
    "Null Hypothesis H0 -> Teaching method is different\n",
    "\n",
    "Alternate Hypothesis H1 -> Teaching method ain't different\n",
    "\n",
    "Significance level -> 0.01\n",
    "\n",
    "Digree of Freedom = n1 + n2 - 2 = 16\n",
    "\n",
    "Critical Interval = - 2.921 to + 2.921\n",
    " \n",
    "T-test = X1 - X2 / math.sqrt (S1 ** 2 / n1 + S2 ** 2 / n2)\n",
    "\n",
    "       = 1.16\n",
    "       \n",
    "Decision : We accept the null hypothesis."
   ]
  },
  {
   "cell_type": "code",
   "execution_count": null,
   "id": "dca93eb2-2e9e-4164-8679-1b17b77e6812",
   "metadata": {},
   "outputs": [],
   "source": []
  },
  {
   "cell_type": "markdown",
   "id": "c5375e46-90dd-44f8-bbca-1c35a48d9e32",
   "metadata": {},
   "source": [
    "Q13. A population has a mean of 60 and a standard deviation of 8. A sample of 50 observations has a mean\n",
    "of 65. Calculate the 90% confidence interval for the true population mean."
   ]
  },
  {
   "cell_type": "markdown",
   "id": "4e15119e-a643-4074-a320-0c2c199c0ece",
   "metadata": {},
   "source": [
    "* Confidence Interval = Sample Mean ± (Critical Value * Standard Error)\n",
    "\n",
    "                      = 65 ± (1.64 * 8 / math.sqrt(50))\n",
    "                      \n",
    "                      = 65 ± 1.85\n",
    "                      \n",
    "                      = 63.15 to 66.85\n",
    "                    \n",
    "* 90% confidence interval for the true population mean is (63.15,66.85)"
   ]
  },
  {
   "cell_type": "code",
   "execution_count": null,
   "id": "fd299bc7-56c1-4c29-9189-31de1ae06cb9",
   "metadata": {},
   "outputs": [],
   "source": []
  },
  {
   "cell_type": "markdown",
   "id": "ceb425ec-12ce-4be8-8a25-e903678f877c",
   "metadata": {},
   "source": [
    "Q14. In a study of the effects of caffeine on reaction time, a sample of 30 participants had an average\n",
    "reaction time of 0.25 seconds with a standard deviation of 0.05 seconds. Conduct a hypothesis test to\n",
    "determine if the caffeine has a significant effect on reaction time at a 90% confidence level using a t-test."
   ]
  },
  {
   "cell_type": "markdown",
   "id": "4118863e-9ffd-484d-89de-6b8c03d4fe86",
   "metadata": {},
   "source": [
    "## Hypothesis Testing\n",
    "\n",
    "Null Hypothesis -> Caffeine has a significant effect on reaction\n",
    "\n",
    "Alternate Hypothesis -> Caffeine ain't a significant effect on reaction\n",
    "\n",
    "Critical Value = 0.1\n",
    "\n",
    "Degree of Freedom = n - 1 = 29 \n",
    "\n",
    "Critical Interval = - 1.699 to + 1.699\n",
    "\n",
    "T-test = (x̄ - μ) / (s / √n)\n",
    "\n",
    "t = (0.25 - 0.25) / (0.05 / √30)\n",
    "\n",
    "t = 0 / (0.05 / √30)\n",
    "\n",
    "t = 0 / (0.05 / 5.477)\n",
    "\n",
    "t = 0 / 0.0091\n",
    "\n",
    "t = 0       \n",
    "\n",
    "Decistion : We accept the null hypothesis."
   ]
  },
  {
   "cell_type": "code",
   "execution_count": null,
   "id": "6d98697d-6ad6-48e7-aed1-9803a0d137fb",
   "metadata": {},
   "outputs": [],
   "source": []
  }
 ],
 "metadata": {
  "kernelspec": {
   "display_name": "Python 3 (ipykernel)",
   "language": "python",
   "name": "python3"
  },
  "language_info": {
   "codemirror_mode": {
    "name": "ipython",
    "version": 3
   },
   "file_extension": ".py",
   "mimetype": "text/x-python",
   "name": "python",
   "nbconvert_exporter": "python",
   "pygments_lexer": "ipython3",
   "version": "3.10.8"
  }
 },
 "nbformat": 4,
 "nbformat_minor": 5
}
